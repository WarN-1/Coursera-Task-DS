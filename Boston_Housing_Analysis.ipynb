{
 "cells": [
  {
   "cell_type": "markdown",
   "id": "80af6820",
   "metadata": {},
   "source": [
    "\n",
    "# Boston Housing Analysis — Management Insights\n",
    "\n",
    "**Project Scenario:** You are a Data Scientist with a housing agency in Boston, MA. Using the Boston Housing dataset (derived from the U.S. Census Service), provide insights to management.\n",
    "\n",
    "**Tasks covered by this notebook**  \n",
    "- Task 1: Familiarize with the dataset  \n",
    "- Task 2: Generate basic statistics and visualizations  \n",
    "- Task 3: Run statistical tests to answer management questions  \n",
    "- Task 4: Share this Jupyter Notebook\n",
    "\n",
    "**Alpha level:** $\\alpha = 0.05$\n"
   ]
  },
  {
   "cell_type": "markdown",
   "id": "062ab782",
   "metadata": {},
   "source": [
    "## Setup & Data Loading"
   ]
  },
  {
   "cell_type": "code",
   "execution_count": null,
   "id": "e30ba4da",
   "metadata": {},
   "outputs": [],
   "source": [
    "\n",
    "# Install deps if needed (uncomment if running in a very minimal environment)\n",
    "# %pip install pandas scipy statsmodels matplotlib\n",
    "\n",
    "import io\n",
    "import pandas as pd\n",
    "import numpy as np\n",
    "import matplotlib.pyplot as plt\n",
    "from scipy import stats\n",
    "import statsmodels.api as sm\n",
    "import statsmodels.formula.api as smf\n",
    "\n",
    "# Display options\n",
    "pd.set_option(\"display.max_columns\", 100)\n",
    "pd.set_option(\"display.width\", 120)\n",
    "\n",
    "# ---- Data loading with 3 strategies ----\n",
    "# 1) Default: Load from IBM Skills Network (works on regular internet-connected environments).\n",
    "# 2) If that fails, try to read a local file dropped next to the notebook (boston_housing.csv).\n",
    "# 3) If that fails too, raise an informative error.\n",
    "\n",
    "def load_boston():\n",
    "    url = \"https://cf-courses-data.s3.us.cloud-object-storage.appdomain.cloud/IBMDeveloperSkillsNetwork-ST0151EN-SkillsNetwork/labs/boston_housing.csv\"\n",
    "    try:\n",
    "        df = pd.read_csv(url)\n",
    "        print(\"Loaded dataset from URL.\")\n",
    "        return df\n",
    "    except Exception as e:\n",
    "        print(\"URL load failed:\", e)\n",
    "        try:\n",
    "            df = pd.read_csv(\"boston_housing.csv\")\n",
    "            print(\"Loaded local boston_housing.csv (placed next to this notebook).\")\n",
    "            return df\n",
    "        except Exception as e2:\n",
    "            raise RuntimeError(\n",
    "                \"Unable to load the dataset from the URL or a local 'boston_housing.csv'. \"\n",
    "                \"Please place the CSV next to this notebook and re-run.\"\n",
    "            ) from e2\n",
    "\n",
    "boston_df = load_boston()\n",
    "\n",
    "# Some distributions include an 'Unnamed: 0' index column; drop if present\n",
    "if \"Unnamed: 0\" in boston_df.columns:\n",
    "    boston_df = boston_df.drop(columns=[\"Unnamed: 0\"])\n",
    "\n",
    "boston_df.head()\n"
   ]
  },
  {
   "cell_type": "markdown",
   "id": "c783dbcc",
   "metadata": {},
   "source": [
    "\n",
    "### Data Dictionary\n",
    "\n",
    "- **CRIM** — per capita crime rate by town  \n",
    "- **ZN** — proportion of residential land zoned for lots over 25,000 sq.ft.  \n",
    "- **INDUS** — proportion of non-retail business acres per town  \n",
    "- **CHAS** — Charles River dummy variable (1 if tract bounds river; 0 otherwise)  \n",
    "- **NOX** — nitric oxides concentration (parts per 10 million)  \n",
    "- **RM** — average number of rooms per dwelling  \n",
    "- **AGE** — proportion of owner-occupied units built prior to 1940  \n",
    "- **DIS** — weighted distances to five Boston employment centres  \n",
    "- **RAD** — index of accessibility to radial highways  \n",
    "- **TAX** — full-value property-tax rate per \\$10,000  \n",
    "- **PTRATIO** — pupil–teacher ratio by town  \n",
    "- **LSTAT** — % lower status of the population  \n",
    "- **MEDV** — median value of owner-occupied homes in \\$1000's\n"
   ]
  },
  {
   "cell_type": "markdown",
   "id": "f28c0a12",
   "metadata": {},
   "source": [
    "## Task 1–2: Familiarize & Generate Basic Statistics"
   ]
  },
  {
   "cell_type": "code",
   "execution_count": null,
   "id": "c4ea2095",
   "metadata": {},
   "outputs": [],
   "source": [
    "\n",
    "print(\"Shape:\", boston_df.shape)\n",
    "display(boston_df.describe(include=\"all\"))\n",
    "print(\"\\nMissing values per column:\")\n",
    "print(boston_df.isna().sum())\n"
   ]
  },
  {
   "cell_type": "markdown",
   "id": "7166af3f",
   "metadata": {},
   "source": [
    "### Visualizations"
   ]
  },
  {
   "cell_type": "code",
   "execution_count": null,
   "id": "80487d10",
   "metadata": {},
   "outputs": [],
   "source": [
    "\n",
    "# IMPORTANT: Use matplotlib only, one chart per cell, and avoid setting specific colors.\n",
    "\n",
    "# 1) Boxplot: MEDV (Median value of owner-occupied homes)\n",
    "plt.figure()\n",
    "plt.boxplot(boston_df[\"MEDV\"].dropna())\n",
    "plt.title(\"Median Value of Owner-Occupied Homes (MEDV) — Boxplot\")\n",
    "plt.ylabel(\"MEDV ($1000s)\")\n",
    "plt.xlabel(\"All observations\")\n",
    "plt.show()\n"
   ]
  },
  {
   "cell_type": "code",
   "execution_count": null,
   "id": "84868cc3",
   "metadata": {},
   "outputs": [],
   "source": [
    "\n",
    "# 2) Bar plot for CHAS (0/1 counts)\n",
    "chas_counts = boston_df[\"CHAS\"].value_counts().sort_index()\n",
    "plt.figure()\n",
    "plt.bar(chas_counts.index.astype(str), chas_counts.values)\n",
    "plt.title(\"Bounded by the Charles River (CHAS) — Counts\")\n",
    "plt.xlabel(\"CHAS (0=No, 1=Yes)\")\n",
    "plt.ylabel(\"Count of Tracts\")\n",
    "plt.show()\n"
   ]
  },
  {
   "cell_type": "code",
   "execution_count": null,
   "id": "7d591d13",
   "metadata": {},
   "outputs": [],
   "source": [
    "\n",
    "# 3) Boxplot: MEDV vs AGE groups\n",
    "# Discretize AGE into 3 bins: <=35, (35, 70], >70\n",
    "age_bins = pd.cut(boston_df[\"AGE\"],\n",
    "                  bins=[-np.inf, 35, 70, np.inf],\n",
    "                  labels=[\"<=35\", \"35–70\", \">70\"])\n",
    "\n",
    "groups = [boston_df.loc[age_bins == lab, \"MEDV\"].dropna() for lab in [\"<=35\", \"35–70\", \">70\"]]\n",
    "\n",
    "plt.figure()\n",
    "plt.boxplot(groups, labels=[\"<=35\", \"35–70\", \">70\"])\n",
    "plt.title(\"MEDV by AGE Group — Boxplots\")\n",
    "plt.xlabel(\"AGE Group (% owner-occupied units built prior to 1940)\")\n",
    "plt.ylabel(\"MEDV ($1000s)\")\n",
    "plt.show()\n"
   ]
  },
  {
   "cell_type": "code",
   "execution_count": null,
   "id": "0d16cc67",
   "metadata": {},
   "outputs": [],
   "source": [
    "\n",
    "# 4) Scatter: NOX vs INDUS\n",
    "plt.figure()\n",
    "plt.scatter(boston_df[\"INDUS\"], boston_df[\"NOX\"])\n",
    "plt.title(\"NOX vs INDUS — Scatter Plot\")\n",
    "plt.xlabel(\"INDUS (% non-retail business acres per town)\")\n",
    "plt.ylabel(\"NOX (parts per 10 million)\")\n",
    "plt.show()\n",
    "\n",
    "# Simple Pearson correlation to accompany the visual\n",
    "r, p = stats.pearsonr(boston_df[\"INDUS\"], boston_df[\"NOX\"])\n",
    "print(f\"Pearson r between NOX and INDUS: {r:.3f}, p-value: {p:.3g}\")\n",
    "print(\"Interpretation: r close to 0 => weak linear relationship; |r| close to 1 => strong linear relationship.\")\n"
   ]
  },
  {
   "cell_type": "code",
   "execution_count": null,
   "id": "d72f8007",
   "metadata": {},
   "outputs": [],
   "source": [
    "\n",
    "# 5) Histogram: PTRATIO\n",
    "plt.figure()\n",
    "plt.hist(boston_df[\"PTRATIO\"].dropna(), bins=15)\n",
    "plt.title(\"Pupil–Teacher Ratio (PTRATIO) — Histogram\")\n",
    "plt.xlabel(\"PTRATIO\")\n",
    "plt.ylabel(\"Frequency\")\n",
    "plt.show()\n"
   ]
  },
  {
   "cell_type": "markdown",
   "id": "ff63267c",
   "metadata": {},
   "source": [
    "## Task 3: Statistical Tests"
   ]
  },
  {
   "cell_type": "markdown",
   "id": "6ed8768f",
   "metadata": {},
   "source": [
    "\n",
    "### Q1) Do houses bounded by the Charles River differ in median value? (Independent samples t-test)\n",
    "\n",
    "- **H₀:** Mean MEDV is the same for CHAS=1 and CHAS=0.  \n",
    "- **H₁:** Mean MEDV differs between CHAS=1 and CHAS=0.  \n",
    "- **α = 0.05**.\n"
   ]
  },
  {
   "cell_type": "code",
   "execution_count": null,
   "id": "8c64254f",
   "metadata": {},
   "outputs": [],
   "source": [
    "\n",
    "# Split groups\n",
    "medv_chas1 = boston_df.loc[boston_df[\"CHAS\"] == 1, \"MEDV\"].dropna()\n",
    "medv_chas0 = boston_df.loc[boston_df[\"CHAS\"] == 0, \"MEDV\"].dropna()\n",
    "\n",
    "# Welch's t-test (unequal variances)\n",
    "t_stat, p_val = stats.ttest_ind(medv_chas1, medv_chas0, equal_var=False)\n",
    "print(f\"T-stat: {t_stat:.3f}, p-value: {p_val:.4f}\")\n",
    "\n",
    "if p_val < 0.05:\n",
    "    print(\"Conclusion: Reject H0. There is a statistically significant difference in MEDV between river-bounded and non-river tracts.\")\n",
    "else:\n",
    "    print(\"Conclusion: Fail to reject H0. No statistically significant difference detected at α=0.05.\")\n"
   ]
  },
  {
   "cell_type": "markdown",
   "id": "db556818",
   "metadata": {},
   "source": [
    "\n",
    "### Q2) Is there a difference in MEDV across AGE groups? (One-way ANOVA)\n",
    "\n",
    "AGE groups:  \n",
    "- ≤ 35% (<=35)  \n",
    "- 35–70% (35–70)  \n",
    "- > 70% (>70)\n",
    "\n",
    "- **H₀:** All group means of MEDV are equal.  \n",
    "- **H₁:** At least one group mean differs.  \n",
    "- **α = 0.05**.\n"
   ]
  },
  {
   "cell_type": "code",
   "execution_count": null,
   "id": "77a6d40f",
   "metadata": {},
   "outputs": [],
   "source": [
    "\n",
    "age_bins = pd.cut(boston_df[\"AGE\"], bins=[-np.inf, 35, 70, np.inf], labels=[\"<=35\", \"35–70\", \">70\"])\n",
    "g1 = boston_df.loc[age_bins==\"<=35\", \"MEDV\"].dropna()\n",
    "g2 = boston_df.loc[age_bins==\"35–70\", \"MEDV\"].dropna()\n",
    "g3 = boston_df.loc[age_bins==\">70\", \"MEDV\"].dropna()\n",
    "\n",
    "F_stat, p_val = stats.f_oneway(g1, g2, g3)\n",
    "print(f\"F-stat: {F_stat:.3f}, p-value: {p_val:.4f}\")\n",
    "\n",
    "if p_val < 0.05:\n",
    "    print(\"Conclusion: Reject H0. There is a statistically significant difference in MEDV across AGE groups.\")\n",
    "else:\n",
    "    print(\"Conclusion: Fail to reject H0. No statistically significant difference detected at α=0.05.\")\n"
   ]
  },
  {
   "cell_type": "markdown",
   "id": "151aeb87",
   "metadata": {},
   "source": [
    "\n",
    "### Q3) Is there no relationship between NOX and INDUS? (Pearson correlation)\n",
    "\n",
    "- **H₀:** ρ = 0 (no linear relationship).  \n",
    "- **H₁:** ρ ≠ 0 (there is a linear relationship).  \n",
    "- **α = 0.05**.\n"
   ]
  },
  {
   "cell_type": "code",
   "execution_count": null,
   "id": "60ca1303",
   "metadata": {},
   "outputs": [],
   "source": [
    "\n",
    "r, p_val = stats.pearsonr(boston_df[\"NOX\"], boston_df[\"INDUS\"])\n",
    "print(f\"Pearson r: {r:.3f}, p-value: {p_val:.4f}\")\n",
    "\n",
    "if p_val < 0.05:\n",
    "    print(\"Conclusion: Reject H0. There is evidence of a linear relationship between NOX and INDUS.\")\n",
    "else:\n",
    "    print(\"Conclusion: Fail to reject H0. No evidence of a linear relationship at α=0.05.\")\n"
   ]
  },
  {
   "cell_type": "markdown",
   "id": "7c14f46b",
   "metadata": {},
   "source": [
    "\n",
    "### Q4) Impact of an additional unit of DIS on MEDV (Simple Linear Regression)\n",
    "\n",
    "Model: **MEDV ~ DIS**  \n",
    "- **H₀:** Slope( DIS ) = 0 (no impact).  \n",
    "- **H₁:** Slope( DIS ) ≠ 0 (non-zero impact).  \n",
    "- **α = 0.05**.\n",
    "\n",
    "Interpret the slope: the expected change in MEDV (in \\$1000s) for a one–unit increase in DIS.\n"
   ]
  },
  {
   "cell_type": "code",
   "execution_count": null,
   "id": "2ea2260b",
   "metadata": {},
   "outputs": [],
   "source": [
    "\n",
    "model = smf.ols(\"MEDV ~ DIS\", data=boston_df).fit()\n",
    "display(model.summary())\n",
    "\n",
    "slope = model.params[\"DIS\"]\n",
    "p_val = model.pvalues[\"DIS\"]\n",
    "print(f\"Slope for DIS: {slope:.3f} ($1000s per unit of DIS), p-value: {p_val:.4f}\")\n",
    "\n",
    "if p_val < 0.05:\n",
    "    print(\"Conclusion: Reject H0. DIS has a statistically significant impact on MEDV.\")\n",
    "else:\n",
    "    print(\"Conclusion: Fail to reject H0. No significant impact detected at α=0.05.\")\n"
   ]
  }
 ],
 "metadata": {},
 "nbformat": 4,
 "nbformat_minor": 5
}
